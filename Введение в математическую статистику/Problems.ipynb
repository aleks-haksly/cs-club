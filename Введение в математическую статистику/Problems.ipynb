{
  "nbformat": 4,
  "nbformat_minor": 0,
  "metadata": {
    "colab": {
      "provenance": [],
      "authorship_tag": "ABX9TyPBWw6K2DhnxpxG3a3WweQV",
      "include_colab_link": true
    },
    "kernelspec": {
      "name": "python3",
      "display_name": "Python 3"
    },
    "language_info": {
      "name": "python"
    }
  },
  "cells": [
    {
      "cell_type": "markdown",
      "metadata": {
        "id": "view-in-github",
        "colab_type": "text"
      },
      "source": [
        "<a href=\"https://colab.research.google.com/github/aleks-haksly/cs-club/blob/main/%D0%92%D0%B2%D0%B5%D0%B4%D0%B5%D0%BD%D0%B8%D0%B5%20%D0%B2%20%D0%BC%D0%B0%D1%82%D0%B5%D0%BC%D0%B0%D1%82%D0%B8%D1%87%D0%B5%D1%81%D0%BA%D1%83%D1%8E%20%D1%81%D1%82%D0%B0%D1%82%D0%B8%D1%81%D1%82%D0%B8%D0%BA%D1%83/Problems.ipynb\" target=\"_parent\"><img src=\"https://colab.research.google.com/assets/colab-badge.svg\" alt=\"Open In Colab\"/></a>"
      ]
    },
    {
      "cell_type": "markdown",
      "source": [
        "# Введение в математическую статистику, осень 2021, CS клуб #\n",
        "https://stepik.org/course/107204/syllabus"
      ],
      "metadata": {
        "id": "95VzNeAhbIvZ"
      }
    },
    {
      "cell_type": "markdown",
      "source": [
        "### Problem 1 ###\n",
        "![image.png](data:image/png;base64,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)"
      ],
      "metadata": {
        "id": "LPXQ_85zbQAr"
      }
    },
    {
      "cell_type": "code",
      "execution_count": 1,
      "metadata": {
        "colab": {
          "base_uri": "https://localhost:8080/"
        },
        "id": "dA1-obBCbE29",
        "outputId": "7e6155d0-627f-492b-d644-d76ca5a74018"
      },
      "outputs": [
        {
          "metadata": {
            "tags": null
          },
          "name": "stdout",
          "output_type": "stream",
          "text": [
            "9.57941450780589\n"
          ]
        }
      ],
      "source": [
        "import scipy.stats as ss\n",
        "print(ss.norm(3, 4).ppf(0.95))"
      ]
    },
    {
      "cell_type": "code",
      "source": [],
      "metadata": {
        "id": "zVeoxaBrcuT9"
      },
      "execution_count": null,
      "outputs": []
    }
  ]
}